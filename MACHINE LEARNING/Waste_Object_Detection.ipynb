{
  "nbformat": 4,
  "nbformat_minor": 0,
  "metadata": {
    "colab": {
      "name": "Waste_Object_Detection_fix.ipynb",
      "provenance": [],
      "collapsed_sections": []
    },
    "kernelspec": {
      "name": "python3",
      "display_name": "Python 3"
    },
    "language_info": {
      "name": "python"
    }
  },
  "cells": [
    {
      "cell_type": "markdown",
      "metadata": {
        "id": "wHMfJ4Uaf4CV"
      },
      "source": [
        "## Menginstall dan Import Library yang dibutuhkann"
      ]
    },
    {
      "cell_type": "code",
      "source": [
        "!pip install -q --use-deprecated=legacy-resolver tflite-model-maker\n",
        "!pip install -q pycocotools"
      ],
      "metadata": {
        "id": "tsLwCVyFQQnd",
        "colab": {
          "base_uri": "https://localhost:8080/"
        },
        "outputId": "6f332a10-abfd-4eae-cdb5-daf0b1eb84ee"
      },
      "execution_count": 1,
      "outputs": [
        {
          "output_type": "stream",
          "name": "stdout",
          "text": [
            "\u001b[K     |████████████████████████████████| 616 kB 4.1 MB/s \n",
            "\u001b[K     |████████████████████████████████| 213 kB 52.2 MB/s \n",
            "\u001b[K     |████████████████████████████████| 1.1 MB 27.9 MB/s \n",
            "\u001b[K     |████████████████████████████████| 840 kB 15.6 MB/s \n",
            "\u001b[K     |████████████████████████████████| 87 kB 5.2 MB/s \n",
            "\u001b[K     |████████████████████████████████| 77 kB 4.2 MB/s \n",
            "\u001b[K     |████████████████████████████████| 1.2 MB 37.2 MB/s \n",
            "\u001b[K     |████████████████████████████████| 3.4 MB 18.0 MB/s \n",
            "\u001b[K     |████████████████████████████████| 6.4 MB 31.7 MB/s \n",
            "\u001b[K     |████████████████████████████████| 596 kB 52.7 MB/s \n",
            "\u001b[K     |████████████████████████████████| 1.1 MB 46.7 MB/s \n",
            "\u001b[K     |████████████████████████████████| 120 kB 58.6 MB/s \n",
            "\u001b[K     |████████████████████████████████| 208 kB 46.8 MB/s \n",
            "\u001b[K     |████████████████████████████████| 99 kB 8.2 MB/s \n",
            "\u001b[K     |████████████████████████████████| 47.6 MB 2.2 MB/s \n",
            "\u001b[K     |████████████████████████████████| 352 kB 16.7 MB/s \n",
            "\u001b[K     |████████████████████████████████| 25.3 MB 1.7 MB/s \n",
            "\u001b[?25h  Building wheel for fire (setup.py) ... \u001b[?25l\u001b[?25hdone\n",
            "  Building wheel for py-cpuinfo (setup.py) ... \u001b[?25l\u001b[?25hdone\n"
          ]
        }
      ]
    },
    {
      "cell_type": "code",
      "metadata": {
        "id": "d28qSGDmAehz"
      },
      "source": [
        "import numpy as np\n",
        "import os\n",
        "from google_drive_downloader import GoogleDriveDownloader as gdd\n",
        "\n",
        "from tflite_model_maker.config import QuantizationConfig\n",
        "from tflite_model_maker.config import ExportFormat\n",
        "from tflite_model_maker import model_spec\n",
        "from tflite_model_maker import object_detector\n",
        "\n",
        "import tensorflow as tf\n",
        "assert tf.__version__.startswith('2')\n",
        "\n",
        "tf.get_logger().setLevel('ERROR')\n",
        "from absl import logging\n",
        "logging.set_verbosity(logging.ERROR)"
      ],
      "execution_count": 2,
      "outputs": []
    },
    {
      "cell_type": "markdown",
      "metadata": {
        "id": "RHzllzDNgFhw"
      },
      "source": [
        "## Mengunduh Dataset\n",
        "link : https://drive.google.com/file/d/1jLX8WTaAkcteReJe_lm8Yk9BbWr7gbnT/view?usp=sharing"
      ]
    },
    {
      "cell_type": "code",
      "metadata": {
        "id": "du5Y803azOtq",
        "colab": {
          "base_uri": "https://localhost:8080/"
        },
        "outputId": "4d6e6ad9-61e2-4b68-a64e-873c654850f3"
      },
      "source": [
        "gdd.download_file_from_google_drive(file_id='1jLX8WTaAkcteReJe_lm8Yk9BbWr7gbnT',\n",
        "                                    dest_path='content/Waste_Dataset_Obd.zip',\n",
        "                                    unzip=True)"
      ],
      "execution_count": 37,
      "outputs": [
        {
          "output_type": "stream",
          "name": "stdout",
          "text": [
            "Downloading 1jLX8WTaAkcteReJe_lm8Yk9BbWr7gbnT into content/Waste_Dataset_Obd.zip... Done.\n",
            "Unzipping...Done.\n"
          ]
        }
      ]
    },
    {
      "cell_type": "markdown",
      "source": [
        "## Pra-pemrosesan Data"
      ],
      "metadata": {
        "id": "LvUJ5RXD0-UI"
      }
    },
    {
      "cell_type": "markdown",
      "metadata": {
        "id": "Sg-8dW0RgKs8"
      },
      "source": [
        "### Menghapus data yang tidak sesuai format (JPEG)"
      ]
    },
    {
      "cell_type": "code",
      "metadata": {
        "id": "UvStUK4E1YXR"
      },
      "source": [
        "import io\n",
        "import PIL.Image\n",
        "import shutil"
      ],
      "execution_count": 4,
      "outputs": []
    },
    {
      "cell_type": "code",
      "source": [
        "# shutil.rmtree(\"/content/content/Waste_Dataset_Obd\")"
      ],
      "metadata": {
        "id": "dcPH2wCZbbrj"
      },
      "execution_count": 36,
      "outputs": []
    },
    {
      "cell_type": "code",
      "metadata": {
        "id": "RKBhWwMx1Z29"
      },
      "source": [
        "base_dir = \"/content/content/Waste_Dataset_Obd\"\n",
        "\n",
        "train_dir = base_dir + \"/TRAIN\"\n",
        "\n",
        "val_dir = base_dir + \"/TEST\""
      ],
      "execution_count": 38,
      "outputs": []
    },
    {
      "cell_type": "code",
      "metadata": {
        "id": "h8JNNfqk1bsp"
      },
      "source": [
        "train_data = os.listdir(train_dir)\n",
        "train_data.sort()\n",
        "\n",
        "val_data = os.listdir(val_dir)\n",
        "val_data.sort()"
      ],
      "execution_count": 39,
      "outputs": []
    },
    {
      "cell_type": "code",
      "metadata": {
        "id": "QRf_6kie1dbF"
      },
      "source": [
        "train_dlt_img  = []\n",
        "train_dlt_ant = []\n",
        "for i in range(len(train_data)):\n",
        "  full_path = os.path.join('/content/content/Waste_Dataset_Obd/TRAIN/', train_data[i])\n",
        "  if \"jpg\" not in full_path: \n",
        "    continue\n",
        "  else:\n",
        "    with tf.io.gfile.GFile(full_path, 'rb') as fid:\n",
        "      encoded_jpg = fid.read()\n",
        "    encoded_jpg_io = io.BytesIO(encoded_jpg)\n",
        "    image = PIL.Image.open(encoded_jpg_io)\n",
        "    if image.format != 'JPEG':\n",
        "      train_dlt_img.append(train_data[i])\n",
        "      train_dlt_ant.append(train_data[i+1])"
      ],
      "execution_count": 40,
      "outputs": []
    },
    {
      "cell_type": "code",
      "metadata": {
        "id": "rayPyK011ffk"
      },
      "source": [
        "val_dlt_img  = []\n",
        "val_dlt_ant = []\n",
        "for i in range(len(val_data)):\n",
        "  full_path = os.path.join('/content/content/Waste_Dataset_Obd/TEST/', val_data[i])\n",
        "  if \"jpg\" not in full_path: \n",
        "    continue\n",
        "  else:\n",
        "    with tf.io.gfile.GFile(full_path, 'rb') as fid:\n",
        "      encoded_jpg = fid.read()\n",
        "    encoded_jpg_io = io.BytesIO(encoded_jpg)\n",
        "    image = PIL.Image.open(encoded_jpg_io)\n",
        "    if image.format != 'JPEG':\n",
        "      val_dlt_img.append(val_data[i])\n",
        "      val_dlt_ant.append(val_data[i+1])"
      ],
      "execution_count": 41,
      "outputs": []
    },
    {
      "cell_type": "code",
      "metadata": {
        "colab": {
          "base_uri": "https://localhost:8080/"
        },
        "id": "2gxitTTL1hyP",
        "outputId": "9ba3314f-ee36-4eeb-d55a-363d184d64b2"
      },
      "source": [
        "print(len(train_dlt_img))\n",
        "print(len(train_dlt_ant))\n",
        "print(len(val_dlt_img))\n",
        "print(len(val_dlt_ant))"
      ],
      "execution_count": 42,
      "outputs": [
        {
          "output_type": "stream",
          "name": "stdout",
          "text": [
            "58\n",
            "58\n",
            "21\n",
            "21\n"
          ]
        }
      ]
    },
    {
      "cell_type": "code",
      "metadata": {
        "colab": {
          "base_uri": "https://localhost:8080/"
        },
        "id": "cTJrB3DW1jjH",
        "outputId": "72216f6c-347d-4bc9-b83c-af3a4d8869f8"
      },
      "source": [
        "train_dlt_img[:3]"
      ],
      "execution_count": 44,
      "outputs": [
        {
          "output_type": "execute_result",
          "data": {
            "text/plain": [
              "['IMG (1415).jpg', 'IMG (1424).jpg', 'IMG (1453).jpg']"
            ]
          },
          "metadata": {},
          "execution_count": 44
        }
      ]
    },
    {
      "cell_type": "code",
      "metadata": {
        "id": "nuwXPJOVfKXQ",
        "colab": {
          "base_uri": "https://localhost:8080/"
        },
        "outputId": "00d3286a-66fb-4b01-d4bd-5c9110d311d3"
      },
      "source": [
        "train_dlt_ant[:3]"
      ],
      "execution_count": 45,
      "outputs": [
        {
          "output_type": "execute_result",
          "data": {
            "text/plain": [
              "['IMG (1415).xml', 'IMG (1424).xml', 'IMG (1453).xml']"
            ]
          },
          "metadata": {},
          "execution_count": 45
        }
      ]
    },
    {
      "cell_type": "code",
      "metadata": {
        "colab": {
          "base_uri": "https://localhost:8080/"
        },
        "id": "idxox7ep1mxh",
        "outputId": "f87e064a-57d6-4c1a-8b9c-9690b94016b0"
      },
      "source": [
        "val_dlt_img[:3]"
      ],
      "execution_count": 46,
      "outputs": [
        {
          "output_type": "execute_result",
          "data": {
            "text/plain": [
              "['VIMG (158).jpg', 'VIMG (221).jpg', 'VIMG (246).jpg']"
            ]
          },
          "metadata": {},
          "execution_count": 46
        }
      ]
    },
    {
      "cell_type": "code",
      "metadata": {
        "colab": {
          "base_uri": "https://localhost:8080/"
        },
        "id": "rxmbJUj21oye",
        "outputId": "24658b84-7914-44fc-da38-319bbe8c57a0"
      },
      "source": [
        "val_dlt_ant[:3]"
      ],
      "execution_count": 47,
      "outputs": [
        {
          "output_type": "execute_result",
          "data": {
            "text/plain": [
              "['VIMG (158).xml', 'VIMG (221).xml', 'VIMG (246).xml']"
            ]
          },
          "metadata": {},
          "execution_count": 47
        }
      ]
    },
    {
      "cell_type": "code",
      "metadata": {
        "id": "idRNzEbc1qMy"
      },
      "source": [
        "#menghapus data train yang tidak sesuai format\n",
        "for i in range(len(train_dlt_img)):\n",
        "  img = '/content/content/Waste_Dataset_Obd/TRAIN/' + train_dlt_img[i]\n",
        "  ant = '/content/content/Waste_Dataset_Obd/TRAIN/' + train_dlt_ant[i]\n",
        "  os.remove(img)\n",
        "  os.remove(ant)"
      ],
      "execution_count": 48,
      "outputs": []
    },
    {
      "cell_type": "code",
      "metadata": {
        "id": "Y7Oo-ISN1r_g"
      },
      "source": [
        "#menghapus data validasi yang tidak sesuai format\n",
        "for i in range(len(val_dlt_img)):\n",
        "  img = '/content/content/Waste_Dataset_Obd/TEST/' + val_dlt_img[i]\n",
        "  ant = '/content/content/Waste_Dataset_Obd/TEST/' + val_dlt_ant[i]\n",
        "  os.remove(img)\n",
        "  os.remove(ant)"
      ],
      "execution_count": 49,
      "outputs": []
    },
    {
      "cell_type": "markdown",
      "source": [
        "### Menghapus data yang memiliki kualitas buruk"
      ],
      "metadata": {
        "id": "6y_5Pmi12QG9"
      }
    },
    {
      "cell_type": "code",
      "metadata": {
        "id": "hx6JUpJG1u6S"
      },
      "source": [
        "from struct import unpack\n",
        "from tqdm import tqdm\n",
        "import os\n",
        "\n",
        "\n",
        "marker_mapping = {\n",
        "    0xffd8: \"Start of Image\",\n",
        "    0xffe0: \"Application Default Header\",\n",
        "    0xffdb: \"Quantization Table\",\n",
        "    0xffc0: \"Start of Frame\",\n",
        "    0xffc4: \"Define Huffman Table\",\n",
        "    0xffda: \"Start of Scan\",\n",
        "    0xffd9: \"End of Image\"\n",
        "}\n",
        "\n",
        "\n",
        "class JPEG:\n",
        "    def __init__(self, image_file):\n",
        "        with open(image_file, 'rb') as f:\n",
        "            self.img_data = f.read()\n",
        "    \n",
        "    def decode(self):\n",
        "        data = self.img_data\n",
        "        while(True):\n",
        "            marker, = unpack(\">H\", data[0:2])\n",
        "            # print(marker_mapping.get(marker))\n",
        "            if marker == 0xffd8:\n",
        "                data = data[2:]\n",
        "            elif marker == 0xffd9:\n",
        "                return\n",
        "            elif marker == 0xffda:\n",
        "                data = data[-2:]\n",
        "            else:\n",
        "                lenchunk, = unpack(\">H\", data[2:4])\n",
        "                data = data[2+lenchunk:]            \n",
        "            if len(data)==0:\n",
        "                break        "
      ],
      "execution_count": 50,
      "outputs": []
    },
    {
      "cell_type": "code",
      "metadata": {
        "id": "L_etmvr21w5K"
      },
      "source": [
        "train_data = os.listdir(train_dir)\n",
        "train_data.sort()\n",
        "\n",
        "val_data = os.listdir(val_dir)\n",
        "val_data.sort()"
      ],
      "execution_count": 51,
      "outputs": []
    },
    {
      "cell_type": "code",
      "metadata": {
        "colab": {
          "base_uri": "https://localhost:8080/"
        },
        "id": "40Hp9g8E1yeV",
        "outputId": "f51023df-55bc-4cca-8ae3-33ef7b976dfc"
      },
      "source": [
        "bads = []\n",
        "\n",
        "for img in tqdm(train_data):\n",
        "  image = '/content/content/Waste_Dataset_Obd/TRAIN/' + img\n",
        "  if \"jpg\" not in image: \n",
        "    continue\n",
        "  else:\n",
        "    # print(image)\n",
        "    image = JPEG(image) \n",
        "    try:\n",
        "      image.decode()   \n",
        "    except:\n",
        "      bads.append(img)"
      ],
      "execution_count": 52,
      "outputs": [
        {
          "output_type": "stream",
          "name": "stderr",
          "text": [
            "100%|██████████| 4248/4248 [00:01<00:00, 2900.32it/s]\n"
          ]
        }
      ]
    },
    {
      "cell_type": "code",
      "metadata": {
        "colab": {
          "base_uri": "https://localhost:8080/"
        },
        "id": "f2rPlYxM1z3A",
        "outputId": "006ed28c-5121-4e54-b916-2cf830ceb9f4"
      },
      "source": [
        "bads"
      ],
      "execution_count": 53,
      "outputs": [
        {
          "output_type": "execute_result",
          "data": {
            "text/plain": [
              "['IMG (1643).jpg', 'IMG (1920).jpg', 'IMG (822).jpg']"
            ]
          },
          "metadata": {},
          "execution_count": 53
        }
      ]
    },
    {
      "cell_type": "code",
      "metadata": {
        "id": "rSe0M2gq11Nu"
      },
      "source": [
        "for name in bads:\n",
        "  os.remove('/content/content/Waste_Dataset_Obd/TRAIN/' + name)"
      ],
      "execution_count": 54,
      "outputs": []
    },
    {
      "cell_type": "code",
      "source": [
        "os.remove('/content/content/Waste_Dataset_Obd/TRAIN/' + 'IMG (1643).xml')\n",
        "os.remove('/content/content/Waste_Dataset_Obd/TRAIN/' + 'IMG (1920).xml')\n",
        "os.remove('/content/content/Waste_Dataset_Obd/TRAIN/' + 'IMG (822).xml')"
      ],
      "metadata": {
        "id": "hiuc3AdFqxkp"
      },
      "execution_count": 55,
      "outputs": []
    },
    {
      "cell_type": "code",
      "metadata": {
        "id": "OsjgKOZy13vT",
        "colab": {
          "base_uri": "https://localhost:8080/"
        },
        "outputId": "23b90253-577c-4a23-d684-b3a2dc743edb"
      },
      "source": [
        "test_bads = []\n",
        "\n",
        "for img in tqdm(val_data):\n",
        "  image = '/content/content/Waste_Dataset_Obd/TEST/' + img\n",
        "  if \"jpg\" not in image: \n",
        "    continue\n",
        "  else:\n",
        "    # print(image)\n",
        "    image = JPEG(image) \n",
        "    try:\n",
        "      image.decode()   \n",
        "    except:\n",
        "      test_bads.append(img)"
      ],
      "execution_count": 56,
      "outputs": [
        {
          "output_type": "stream",
          "name": "stderr",
          "text": [
            "100%|██████████| 1058/1058 [00:00<00:00, 3965.50it/s]\n"
          ]
        }
      ]
    },
    {
      "cell_type": "code",
      "metadata": {
        "id": "c9SiAsHA15D7",
        "colab": {
          "base_uri": "https://localhost:8080/"
        },
        "outputId": "7d88ef3e-39e5-4c0d-e3c0-3010930c329c"
      },
      "source": [
        "test_bads"
      ],
      "execution_count": 57,
      "outputs": [
        {
          "output_type": "execute_result",
          "data": {
            "text/plain": [
              "['VIMG (518).jpg']"
            ]
          },
          "metadata": {},
          "execution_count": 57
        }
      ]
    },
    {
      "cell_type": "code",
      "metadata": {
        "id": "MQAHb5BO167y"
      },
      "source": [
        "for name in test_bads:\n",
        "  os.remove('/content/content/Waste_Dataset_Obd/TEST/' + name)"
      ],
      "execution_count": 58,
      "outputs": []
    },
    {
      "cell_type": "code",
      "metadata": {
        "id": "N7gSWTyv18fs"
      },
      "source": [
        "os.remove('/content/content/Waste_Dataset_Obd/TEST/' + 'VIMG (518).xml')"
      ],
      "execution_count": 59,
      "outputs": []
    },
    {
      "cell_type": "markdown",
      "metadata": {
        "id": "M1PA8dKxjUgi"
      },
      "source": [
        "## Inisialisasi dan Training Model"
      ]
    },
    {
      "cell_type": "code",
      "metadata": {
        "id": "8QyxFbwGFaP_"
      },
      "source": [
        "label = ['Nonrec_Glass', 'Nonrec_Other', 'Nonrec_Plastic', 'Nonrec_Tangler', 'Organik', 'Rec_Glass', 'Rec_Metal', 'Rec_Paper', 'Rec_Plastic']"
      ],
      "execution_count": 24,
      "outputs": []
    },
    {
      "cell_type": "code",
      "metadata": {
        "id": "CRY9-vtkBRhF"
      },
      "source": [
        "spec = model_spec.get('efficientdet_lite2')"
      ],
      "execution_count": 25,
      "outputs": []
    },
    {
      "cell_type": "code",
      "metadata": {
        "id": "qTZ9zAB0Bzaa"
      },
      "source": [
        "train_data = object_detector.DataLoader.from_pascal_voc(train_dir, train_dir, label)"
      ],
      "execution_count": 26,
      "outputs": []
    },
    {
      "cell_type": "code",
      "metadata": {
        "id": "YVFn6rzIC4xJ"
      },
      "source": [
        "validation_data = object_detector.DataLoader.from_pascal_voc(val_dir, val_dir, label)"
      ],
      "execution_count": 27,
      "outputs": []
    },
    {
      "cell_type": "code",
      "metadata": {
        "id": "AVJSBY1zC8g4",
        "colab": {
          "base_uri": "https://localhost:8080/"
        },
        "outputId": "a3b95a9a-b005-488e-a1f1-7e1c8391a0f1"
      },
      "source": [
        "model = object_detector.create(train_data, model_spec=spec, epochs=10, batch_size=10, train_whole_model=True, validation_data=validation_data)"
      ],
      "execution_count": 28,
      "outputs": [
        {
          "output_type": "stream",
          "name": "stdout",
          "text": [
            "Epoch 1/10\n",
            "47/47 [==============================] - 773s 15s/step - det_loss: 1.7215 - cls_loss: 1.2077 - box_loss: 0.0103 - reg_l2_loss: 0.0772 - loss: 1.7986 - learning_rate: 0.0102 - gradient_norm: 1.8380 - val_det_loss: 1.5109 - val_cls_loss: 1.1090 - val_box_loss: 0.0080 - val_reg_l2_loss: 0.0772 - val_loss: 1.5881\n",
            "Epoch 2/10\n",
            "47/47 [==============================] - 759s 16s/step - det_loss: 1.2345 - cls_loss: 0.9658 - box_loss: 0.0054 - reg_l2_loss: 0.0773 - loss: 1.3118 - learning_rate: 0.0116 - gradient_norm: 3.1268 - val_det_loss: 1.2535 - val_cls_loss: 0.8923 - val_box_loss: 0.0072 - val_reg_l2_loss: 0.0773 - val_loss: 1.3309\n",
            "Epoch 3/10\n",
            "47/47 [==============================] - 715s 15s/step - det_loss: 0.9403 - cls_loss: 0.7418 - box_loss: 0.0040 - reg_l2_loss: 0.0774 - loss: 1.0177 - learning_rate: 0.0102 - gradient_norm: 3.1477 - val_det_loss: 0.9109 - val_cls_loss: 0.7016 - val_box_loss: 0.0042 - val_reg_l2_loss: 0.0774 - val_loss: 0.9884\n",
            "Epoch 4/10\n",
            "47/47 [==============================] - 725s 15s/step - det_loss: 0.7878 - cls_loss: 0.6134 - box_loss: 0.0035 - reg_l2_loss: 0.0775 - loss: 0.8653 - learning_rate: 0.0084 - gradient_norm: 3.2977 - val_det_loss: 0.7979 - val_cls_loss: 0.5786 - val_box_loss: 0.0044 - val_reg_l2_loss: 0.0775 - val_loss: 0.8754\n",
            "Epoch 5/10\n",
            "47/47 [==============================] - 767s 16s/step - det_loss: 0.6904 - cls_loss: 0.5411 - box_loss: 0.0030 - reg_l2_loss: 0.0776 - loss: 0.7680 - learning_rate: 0.0063 - gradient_norm: 3.3510 - val_det_loss: 0.7489 - val_cls_loss: 0.5626 - val_box_loss: 0.0037 - val_reg_l2_loss: 0.0776 - val_loss: 0.8265\n",
            "Epoch 6/10\n",
            "47/47 [==============================] - 727s 15s/step - det_loss: 0.6552 - cls_loss: 0.5119 - box_loss: 0.0029 - reg_l2_loss: 0.0776 - loss: 0.7328 - learning_rate: 0.0041 - gradient_norm: 3.0660 - val_det_loss: 0.6617 - val_cls_loss: 0.4941 - val_box_loss: 0.0034 - val_reg_l2_loss: 0.0776 - val_loss: 0.7393\n",
            "Epoch 7/10\n",
            "47/47 [==============================] - 728s 15s/step - det_loss: 0.6144 - cls_loss: 0.4833 - box_loss: 0.0026 - reg_l2_loss: 0.0776 - loss: 0.6920 - learning_rate: 0.0023 - gradient_norm: 3.1207 - val_det_loss: 0.6094 - val_cls_loss: 0.4732 - val_box_loss: 0.0027 - val_reg_l2_loss: 0.0776 - val_loss: 0.6870\n",
            "Epoch 8/10\n",
            "47/47 [==============================] - 728s 16s/step - det_loss: 0.5871 - cls_loss: 0.4717 - box_loss: 0.0023 - reg_l2_loss: 0.0776 - loss: 0.6647 - learning_rate: 8.6628e-04 - gradient_norm: 2.7706 - val_det_loss: 0.5807 - val_cls_loss: 0.4583 - val_box_loss: 0.0024 - val_reg_l2_loss: 0.0776 - val_loss: 0.6583\n",
            "Epoch 9/10\n",
            "47/47 [==============================] - 729s 16s/step - det_loss: 0.5776 - cls_loss: 0.4587 - box_loss: 0.0024 - reg_l2_loss: 0.0776 - loss: 0.6552 - learning_rate: 1.2748e-04 - gradient_norm: 2.8380 - val_det_loss: 0.5776 - val_cls_loss: 0.4538 - val_box_loss: 0.0025 - val_reg_l2_loss: 0.0776 - val_loss: 0.6552\n",
            "Epoch 10/10\n",
            "47/47 [==============================] - 773s 16s/step - det_loss: 0.5840 - cls_loss: 0.4643 - box_loss: 0.0024 - reg_l2_loss: 0.0776 - loss: 0.6616 - learning_rate: 1.2715e-04 - gradient_norm: 2.8113 - val_det_loss: 0.5795 - val_cls_loss: 0.4526 - val_box_loss: 0.0025 - val_reg_l2_loss: 0.0776 - val_loss: 0.6572\n"
          ]
        }
      ]
    },
    {
      "cell_type": "code",
      "metadata": {
        "id": "4ZmQO4DpDBVP",
        "colab": {
          "base_uri": "https://localhost:8080/"
        },
        "outputId": "1a8d58ae-808e-4c42-9644-c90ec257ad67"
      },
      "source": [
        "model.evaluate(validation_data)"
      ],
      "execution_count": 29,
      "outputs": [
        {
          "output_type": "stream",
          "name": "stdout",
          "text": [
            "2/2 [==============================] - 60s 16s/step\n",
            "\n"
          ]
        },
        {
          "output_type": "execute_result",
          "data": {
            "text/plain": [
              "{'AP': 0.3161972,\n",
              " 'AP50': 0.45476386,\n",
              " 'AP75': 0.36347446,\n",
              " 'AP_/Nonrec_Glass': 0.1476556,\n",
              " 'AP_/Nonrec_Other': 0.045664813,\n",
              " 'AP_/Nonrec_Plastic': 0.26600245,\n",
              " 'AP_/Nonrec_Tangler': 0.4607159,\n",
              " 'AP_/Organik': 0.57519627,\n",
              " 'AP_/Rec_Glass': 0.22660896,\n",
              " 'AP_/Rec_Metal': 0.22382747,\n",
              " 'AP_/Rec_Paper': 0.3422275,\n",
              " 'AP_/Rec_Plastic': 0.5578757,\n",
              " 'APl': 0.32729894,\n",
              " 'APm': 0.03861386,\n",
              " 'APs': -1.0,\n",
              " 'ARl': 0.62331706,\n",
              " 'ARm': 0.0375,\n",
              " 'ARmax1': 0.53394794,\n",
              " 'ARmax10': 0.60772973,\n",
              " 'ARmax100': 0.6095075,\n",
              " 'ARs': -1.0}"
            ]
          },
          "metadata": {},
          "execution_count": 29
        }
      ]
    },
    {
      "cell_type": "code",
      "metadata": {
        "id": "uMD1XXdeDNT2"
      },
      "source": [
        "model.export(export_dir='.')"
      ],
      "execution_count": 30,
      "outputs": []
    },
    {
      "cell_type": "code",
      "metadata": {
        "id": "78QTQ2XcDNK7",
        "colab": {
          "base_uri": "https://localhost:8080/"
        },
        "outputId": "b2784668-edd1-4981-bce8-1e2bbaf47235"
      },
      "source": [
        "model.evaluate_tflite('/content/model.tflite', validation_data)"
      ],
      "execution_count": 31,
      "outputs": [
        {
          "output_type": "stream",
          "name": "stdout",
          "text": [
            "128/128 [==============================] - 1166s 9s/step\n",
            "\n"
          ]
        },
        {
          "output_type": "execute_result",
          "data": {
            "text/plain": [
              "{'AP': 0.2615316,\n",
              " 'AP50': 0.36816052,\n",
              " 'AP75': 0.3026129,\n",
              " 'AP_/Nonrec_Glass': 8.1378e-05,\n",
              " 'AP_/Nonrec_Other': 0.0,\n",
              " 'AP_/Nonrec_Plastic': 0.24655735,\n",
              " 'AP_/Nonrec_Tangler': 0.47631407,\n",
              " 'AP_/Organik': 0.53652614,\n",
              " 'AP_/Rec_Glass': 0.21290888,\n",
              " 'AP_/Rec_Metal': 0.022489391,\n",
              " 'AP_/Rec_Paper': 0.33148715,\n",
              " 'AP_/Rec_Plastic': 0.52742,\n",
              " 'APl': 0.2660939,\n",
              " 'APm': 0.0,\n",
              " 'APs': -1.0,\n",
              " 'ARl': 0.3985289,\n",
              " 'ARm': 0.0,\n",
              " 'ARmax1': 0.35683525,\n",
              " 'ARmax10': 0.39541104,\n",
              " 'ARmax100': 0.39739797,\n",
              " 'ARs': -1.0}"
            ]
          },
          "metadata": {},
          "execution_count": 31
        }
      ]
    },
    {
      "cell_type": "markdown",
      "source": [
        "## Mencoba Model Object Deection"
      ],
      "metadata": {
        "id": "jtVmPiKOsje8"
      }
    },
    {
      "cell_type": "code",
      "source": [
        "import platform\n",
        "import json\n",
        "import cv2\n",
        "from PIL import Image\n",
        "\n",
        "from typing import List, NamedTuple\n",
        "from tflite_support import metadata\n",
        "\n",
        "\n",
        "Interpreter = tf.lite.Interpreter\n",
        "load_delegate = tf.lite.experimental.load_delegate\n",
        "\n",
        "# pylint: enable=g-import-not-at-top\n",
        "\n",
        "\n",
        "class ObjectDetectorOptions(NamedTuple):\n",
        "  \"\"\"A config to initialize an object detector.\"\"\"\n",
        "\n",
        "  enable_edgetpu: bool = False\n",
        "  \"\"\"Enable the model to run on EdgeTPU.\"\"\"\n",
        "\n",
        "  label_allow_list: List[str] = None\n",
        "  \"\"\"The optional allow list of labels.\"\"\"\n",
        "\n",
        "  label_deny_list: List[str] = None\n",
        "  \"\"\"The optional deny list of labels.\"\"\"\n",
        "\n",
        "  max_results: int = -1\n",
        "  \"\"\"The maximum number of top-scored detection results to return.\"\"\"\n",
        "\n",
        "  num_threads: int = 1\n",
        "  \"\"\"The number of CPU threads to be used.\"\"\"\n",
        "\n",
        "  score_threshold: float = 0.0\n",
        "  \"\"\"The score threshold of detection results to return.\"\"\"\n",
        "\n",
        "\n",
        "class Rect(NamedTuple):\n",
        "  \"\"\"A rectangle in 2D space.\"\"\"\n",
        "  left: float\n",
        "  top: float\n",
        "  right: float\n",
        "  bottom: float\n",
        "\n",
        "\n",
        "class Category(NamedTuple):\n",
        "  \"\"\"A result of a classification task.\"\"\"\n",
        "  label: str\n",
        "  score: float\n",
        "  index: int\n",
        "\n",
        "\n",
        "class Detection(NamedTuple):\n",
        "  \"\"\"A detected object as the result of an ObjectDetector.\"\"\"\n",
        "  bounding_box: Rect\n",
        "  categories: List[Category]\n",
        "\n",
        "\n",
        "def edgetpu_lib_name():\n",
        "  \"\"\"Returns the library name of EdgeTPU in the current platform.\"\"\"\n",
        "  return {\n",
        "      'Darwin': 'libedgetpu.1.dylib',\n",
        "      'Linux': 'libedgetpu.so.1',\n",
        "      'Windows': 'edgetpu.dll',\n",
        "  }.get(platform.system(), None)\n",
        "\n",
        "\n",
        "class ObjectDetector:\n",
        "  \"\"\"A wrapper class for a TFLite object detection model.\"\"\"\n",
        "\n",
        "  _OUTPUT_LOCATION_NAME = 'location'\n",
        "  _OUTPUT_CATEGORY_NAME = 'category'\n",
        "  _OUTPUT_SCORE_NAME = 'score'\n",
        "  _OUTPUT_NUMBER_NAME = 'number of detections'\n",
        "\n",
        "  def __init__(\n",
        "      self,\n",
        "      model_path: str,\n",
        "      options: ObjectDetectorOptions = ObjectDetectorOptions()\n",
        "  ) -> None:\n",
        "    \"\"\"Initialize a TFLite object detection model.\n",
        "    Args:\n",
        "        model_path: Path to the TFLite model.\n",
        "        options: The config to initialize an object detector. (Optional)\n",
        "    Raises:\n",
        "        ValueError: If the TFLite model is invalid.\n",
        "        OSError: If the current OS isn't supported by EdgeTPU.\n",
        "    \"\"\"\n",
        "\n",
        "    # Load metadata from model.\n",
        "    displayer = metadata.MetadataDisplayer.with_model_file(model_path)\n",
        "\n",
        "    # Save model metadata for preprocessing later.\n",
        "    model_metadata = json.loads(displayer.get_metadata_json())\n",
        "    process_units = model_metadata['subgraph_metadata'][0]['input_tensor_metadata'][0]['process_units']\n",
        "    mean = 0.0\n",
        "    std = 1.0\n",
        "    for option in process_units:\n",
        "      if option['options_type'] == 'NormalizationOptions':\n",
        "        mean = option['options']['mean'][0]\n",
        "        std = option['options']['std'][0]\n",
        "    self._mean = mean\n",
        "    self._std = std\n",
        "\n",
        "    # Load label list from metadata.\n",
        "    file_name = displayer.get_packed_associated_file_list()[0]\n",
        "    label_map_file = displayer.get_associated_file_buffer(file_name).decode()\n",
        "    label_list = list(filter(lambda x: len(x) > 0, label_map_file.splitlines()))\n",
        "    self._label_list = label_list\n",
        "\n",
        "    # Initialize TFLite model.\n",
        "    if options.enable_edgetpu:\n",
        "      if edgetpu_lib_name() is None:\n",
        "        raise OSError(\"The current OS isn't supported by Coral EdgeTPU.\")\n",
        "      interpreter = Interpreter(\n",
        "          model_path=model_path,\n",
        "          experimental_delegates=[load_delegate(edgetpu_lib_name())],\n",
        "          num_threads=options.num_threads)\n",
        "    else:\n",
        "      interpreter = Interpreter(\n",
        "          model_path=model_path, num_threads=options.num_threads)\n",
        "\n",
        "    interpreter.allocate_tensors()\n",
        "    input_detail = interpreter.get_input_details()[0]\n",
        "\n",
        "    # From TensorFlow 2.6, the order of the outputs become undefined.\n",
        "    # Therefore we need to sort the tensor indices of TFLite outputs and to know\n",
        "    # exactly the meaning of each output tensor. For example, if\n",
        "    # output indices are [601, 599, 598, 600], tensor names and indices aligned\n",
        "    # are:\n",
        "    #   - location: 598\n",
        "    #   - category: 599\n",
        "    #   - score: 600\n",
        "    #   - detection_count: 601\n",
        "    # because of the op's ports of TFLITE_DETECTION_POST_PROCESS\n",
        "    # (https://github.com/tensorflow/tensorflow/blob/a4fe268ea084e7d323133ed7b986e0ae259a2bc7/tensorflow/lite/kernels/detection_postprocess.cc#L47-L50).\n",
        "    sorted_output_indices = sorted(\n",
        "        [output['index'] for output in interpreter.get_output_details()])\n",
        "    self._output_indices = {\n",
        "        self._OUTPUT_LOCATION_NAME: sorted_output_indices[0],\n",
        "        self._OUTPUT_CATEGORY_NAME: sorted_output_indices[1],\n",
        "        self._OUTPUT_SCORE_NAME: sorted_output_indices[2],\n",
        "        self._OUTPUT_NUMBER_NAME: sorted_output_indices[3],\n",
        "    }\n",
        "\n",
        "    self._input_size = input_detail['shape'][2], input_detail['shape'][1]\n",
        "    self._is_quantized_input = input_detail['dtype'] == np.uint8\n",
        "    self._interpreter = interpreter\n",
        "    self._options = options\n",
        "\n",
        "  def detect(self, input_image: np.ndarray) -> List[Detection]:\n",
        "    \"\"\"Run detection on an input image.\n",
        "    Args:\n",
        "        input_image: A [height, width, 3] RGB image. Note that height and width\n",
        "          can be anything since the image will be immediately resized according\n",
        "          to the needs of the model within this function.\n",
        "    Returns:\n",
        "        A Person instance.\n",
        "    \"\"\"\n",
        "    image_height, image_width, _ = input_image.shape\n",
        "\n",
        "    input_tensor = self._preprocess(input_image)\n",
        "\n",
        "    self._set_input_tensor(input_tensor)\n",
        "    self._interpreter.invoke()\n",
        "\n",
        "    # Get all output details\n",
        "    boxes = self._get_output_tensor(self._OUTPUT_LOCATION_NAME)\n",
        "    classes = self._get_output_tensor(self._OUTPUT_CATEGORY_NAME)\n",
        "    scores = self._get_output_tensor(self._OUTPUT_SCORE_NAME)\n",
        "    count = int(self._get_output_tensor(self._OUTPUT_NUMBER_NAME))\n",
        "\n",
        "    return self._postprocess(boxes, classes, scores, count, image_width,\n",
        "                             image_height)\n",
        "\n",
        "  def _preprocess(self, input_image: np.ndarray) -> np.ndarray:\n",
        "    \"\"\"Preprocess the input image as required by the TFLite model.\"\"\"\n",
        "\n",
        "    # Resize the input\n",
        "    input_tensor = cv2.resize(input_image, self._input_size)\n",
        "\n",
        "    # Normalize the input if it's a float model (aka. not quantized)\n",
        "    if not self._is_quantized_input:\n",
        "      input_tensor = (np.float32(input_tensor) - self._mean) / self._std\n",
        "\n",
        "    # Add batch dimension\n",
        "    input_tensor = np.expand_dims(input_tensor, axis=0)\n",
        "\n",
        "    return input_tensor\n",
        "\n",
        "  def _set_input_tensor(self, image):\n",
        "    \"\"\"Sets the input tensor.\"\"\"\n",
        "    tensor_index = self._interpreter.get_input_details()[0]['index']\n",
        "    input_tensor = self._interpreter.tensor(tensor_index)()[0]\n",
        "    input_tensor[:, :] = image\n",
        "\n",
        "  def _get_output_tensor(self, name):\n",
        "    \"\"\"Returns the output tensor at the given index.\"\"\"\n",
        "    output_index = self._output_indices[name]\n",
        "    tensor = np.squeeze(self._interpreter.get_tensor(output_index))\n",
        "    return tensor\n",
        "\n",
        "  def _postprocess(self, boxes: np.ndarray, classes: np.ndarray,\n",
        "                   scores: np.ndarray, count: int, image_width: int,\n",
        "                   image_height: int) -> List[Detection]:\n",
        "    \"\"\"Post-process the output of TFLite model into a list of Detection objects.\n",
        "    Args:\n",
        "        boxes: Bounding boxes of detected objects from the TFLite model.\n",
        "        classes: Class index of the detected objects from the TFLite model.\n",
        "        scores: Confidence scores of the detected objects from the TFLite model.\n",
        "        count: Number of detected objects from the TFLite model.\n",
        "        image_width: Width of the input image.\n",
        "        image_height: Height of the input image.\n",
        "    Returns:\n",
        "        A list of Detection objects detected by the TFLite model.\n",
        "    \"\"\"\n",
        "    results = []\n",
        "\n",
        "    # Parse the model output into a list of Detection entities.\n",
        "    for i in range(count):\n",
        "      if scores[i] >= self._options.score_threshold:\n",
        "        y_min, x_min, y_max, x_max = boxes[i]\n",
        "        bounding_box = Rect(\n",
        "            top=int(y_min * image_height),\n",
        "            left=int(x_min * image_width),\n",
        "            bottom=int(y_max * image_height),\n",
        "            right=int(x_max * image_width))\n",
        "        class_id = int(classes[i])\n",
        "        category = Category(\n",
        "            score=scores[i],\n",
        "            label=self._label_list[class_id],  # 0 is reserved for background\n",
        "            index=class_id)\n",
        "        result = Detection(bounding_box=bounding_box, categories=[category])\n",
        "        results.append(result)\n",
        "\n",
        "    # Sort detection results by score ascending\n",
        "    sorted_results = sorted(\n",
        "        results,\n",
        "        key=lambda detection: detection.categories[0].score,\n",
        "        reverse=True)\n",
        "\n",
        "    # Filter out detections in deny list\n",
        "    filtered_results = sorted_results\n",
        "    if self._options.label_deny_list is not None:\n",
        "      filtered_results = list(\n",
        "          filter(\n",
        "              lambda detection: detection.categories[0].label not in self.\n",
        "              _options.label_deny_list, filtered_results))\n",
        "\n",
        "    # Keep only detections in allow list\n",
        "    if self._options.label_allow_list is not None:\n",
        "      filtered_results = list(\n",
        "          filter(\n",
        "              lambda detection: detection.categories[0].label in self._options.\n",
        "              label_allow_list, filtered_results))\n",
        "\n",
        "    # Only return maximum of max_results detection.\n",
        "    if self._options.max_results > 0:\n",
        "      result_count = min(len(filtered_results), self._options.max_results)\n",
        "      filtered_results = filtered_results[:result_count]\n",
        "\n",
        "    return filtered_results\n",
        "\n",
        "\n",
        "_MARGIN = 10  # pixels\n",
        "_ROW_SIZE = 10  # pixels\n",
        "_FONT_SIZE = 1\n",
        "_FONT_THICKNESS = 1\n",
        "_TEXT_COLOR = (0, 0, 255)  # red\n",
        "\n",
        "\n",
        "def visualize(\n",
        "    image: np.ndarray,\n",
        "    detections: List[Detection],\n",
        ") -> np.ndarray:\n",
        "  \"\"\"Draws bounding boxes on the input image and return it.\n",
        "  Args:\n",
        "    image: The input RGB image.\n",
        "    detections: The list of all \"Detection\" entities to be visualize.\n",
        "  Returns:\n",
        "    Image with bounding boxes.\n",
        "  \"\"\"\n",
        "  for detection in detections:\n",
        "    # Draw bounding_box\n",
        "    start_point = detection.bounding_box.left, detection.bounding_box.top\n",
        "    end_point = detection.bounding_box.right, detection.bounding_box.bottom\n",
        "    cv2.rectangle(image, start_point, end_point, _TEXT_COLOR, 3)\n",
        "\n",
        "    # Draw label and score\n",
        "    category = detection.categories[0]\n",
        "    class_name = category.label\n",
        "    probability = round(category.score, 2)\n",
        "    result_text = class_name + ' (' + str(probability) + ')'\n",
        "    text_location = (_MARGIN + detection.bounding_box.left,\n",
        "                     _MARGIN + _ROW_SIZE + detection.bounding_box.top)\n",
        "    cv2.putText(image, result_text, text_location, cv2.FONT_HERSHEY_PLAIN,\n",
        "                _FONT_SIZE, _TEXT_COLOR, _FONT_THICKNESS)\n",
        "\n",
        "  return image"
      ],
      "metadata": {
        "id": "AlDUr4i2OEmE"
      },
      "execution_count": 32,
      "outputs": []
    },
    {
      "cell_type": "code",
      "source": [
        "INPUT_IMAGE_URL = \"/content/VIMG (416).jpg\"\n",
        "DETECTION_THRESHOLD = 0.3\n",
        "\n",
        "\n",
        "im = Image.open(INPUT_IMAGE_URL)\n",
        "im.thumbnail((512, 512), Image.ANTIALIAS)\n",
        "im.save(INPUT_IMAGE_URL, 'PNG')\n",
        "image_np = np.asarray(im)\n",
        "\n",
        "# Load the TFLite model\n",
        "options = ObjectDetectorOptions(\n",
        "      num_threads=4,\n",
        "      score_threshold=DETECTION_THRESHOLD,\n",
        ")\n",
        "detector = ObjectDetector(model_path='/content/model.tflite', options=options)\n",
        "\n",
        "# Run object detection estimation using the model.\n",
        "detections = detector.detect(image_np)\n",
        "\n",
        "# Draw keypoints and edges on input image\n",
        "image_np = visualize(image_np, detections)\n",
        "\n",
        "# Show the detection result\n",
        "Image.fromarray(image_np)"
      ],
      "metadata": {
        "id": "hDUMATLHOGq0",
        "colab": {
          "base_uri": "https://localhost:8080/",
          "height": 401
        },
        "outputId": "00a8dc94-25e0-4423-f829-d8ddfb10a4dc"
      },
      "execution_count": 35,
      "outputs": [
        {
          "output_type": "execute_result",
          "data": {
            "image/png": "[encoded data removed]",
            "text/plain": [
              "<PIL.Image.Image image mode=RGB size=512x384 at 0x7FE74167A150>"
            ]
          },
          "metadata": {},
          "execution_count": 35
        }
      ]
    }
  ]
}